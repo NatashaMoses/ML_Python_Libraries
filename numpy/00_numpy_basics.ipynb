{
 "cells": [
  {
   "cell_type": "markdown",
   "metadata": {},
   "source": [
    "#### NUMPY\n",
    "NumPy is short for Numerical Python.  \n",
    "It is a Python library used for working with arrays.  \n",
    "Run `pip install numpy` in the terminal to install NumPy.  \n",
    "Use `print(np.__version__)` to check the version.  \n",
    "\n",
    "#### CREATE NUMPY NDARRAY OBJECT\n",
    "The array object in NumPy is called **ndarray**.  \n",
    "+ Use the `array()` function to create it.  \n",
    "Eg `arr = np.array([1,2,3,4,5])`  \n",
    "+ You can pass a list/set/tuple into the array() method.  \n",
    "Eg `arr = np.array((1,2,3,4,5))`   "
   ]
  },
  {
   "cell_type": "code",
   "execution_count": 14,
   "metadata": {},
   "outputs": [
    {
     "name": "stdout",
     "output_type": "stream",
     "text": [
      "1.26.4\n"
     ]
    }
   ],
   "source": [
    "import numpy as np\n",
    "\n",
    "print(np.__version__)\n",
    "\n",
    "# PASS LIST\n",
    "arr = np.array([1, 2, 3, 4, 5])\n",
    "# PASS TUPLE\n",
    "arr2 = np.array((1, 2, 3, 4, 5))\n"
   ]
  },
  {
   "cell_type": "markdown",
   "metadata": {},
   "source": [
    "#### DIMENSIONS\n",
    "0-DIMENSIONAL ARRAY  \n",
    "These are the elements in an array.  \n",
    "They are also known as **scalars**.   \n",
    "Eg `np.array(21)`\n",
    "\n",
    "1-DIMENSIONAL ARRAY   \n",
    "This is an array made of 0-D arrays.  \n",
    "They are also called **uni-dimensional** arrays.  \n",
    "Eg `np.array([1, 2, 3])`\n",
    "\n",
    "2-DIMENSIONAL ARRAY   \n",
    "This is an array made of 1-D arrays.  \n",
    "They are used to represent **matrices**.  \n",
    "Eg `np.array([1, 2, 3],[10, 20, 30])`  \n",
    "\n",
    "3-DIMENSIONAL ARRAY   \n",
    "This is an array made of 2-D arrays.  \n",
    "They are used to represent **third order tensors**.  \n",
    "Eg `np.array([[[1, 2, 3], [10, 20, 30]], [[1, 2, 3], [10, 20, 30]]])`  \n",
    "\n",
    "+ Use the `ndim` attribute to get the number of dimensions an array has.  \n",
    "Eg `print(arr.ndim)`  \n",
    "+ You can use the `ndmin` argument to specify the number of dimensions.  \n",
    "Eg `arr = np.array([10, 20, 30], ndmin=5)`  \n",
    "\n",
    "The above returns this 5-D array; [[[[[10 20 30]]]]]  \n",
    "The 5th dim has 3 elements `10 20 30`  \n",
    "The 4th dim has 1 element that is the vector or 1D array `[10 20 30]`  \n",
    "The 3rd dim has 1 element that is the matrix or 2D array `[[10 20 30]]`   \n",
    "The 2nd dim has 1 element that is a 3D array `[[[10 20 30]]]`  \n",
    "The 1st dim has 1 element that is a 4D array `[[[[10 20 30]]]]`  \n",
    "\n",
    "> NOTE  \n",
    "> `ndim` is used to get the number of dimensions.  \n",
    "> While `ndmin` is used to specify the number of dimensions.  "
   ]
  },
  {
   "cell_type": "code",
   "execution_count": 15,
   "metadata": {},
   "outputs": [
    {
     "name": "stdout",
     "output_type": "stream",
     "text": [
      "0\n",
      "a has dimension 0\n",
      "1\n",
      "b has dimension 1\n",
      "c has dimension 2\n",
      "d has dimension 3\n",
      "[[[[[10 20 30]]]]]\n",
      "e has dimension 5\n"
     ]
    }
   ],
   "source": [
    "# 0-D ARRAY\n",
    "a = np.array(21)\n",
    "print(a.ndim)\n",
    "print(\"a has dimension {}\".format(a.ndim))\n",
    "\n",
    "# 1-D ARRAY\n",
    "b = np.array([1, 2, 3])\n",
    "print(b.ndim)\n",
    "print(\"b has dimension {}\".format(b.ndim))\n",
    "\n",
    "# 2-D ARRAY\n",
    "c = np.array([[1, 2, 3], [10, 20, 30]])\n",
    "print(\"c has dimension {}\".format(c.ndim))\n",
    "\n",
    "# 3-D ARRAY\n",
    "d = np.array([[[1, 2, 3], [10, 20, 30]], [[1, 2, 3], [10, 20, 30]]])\n",
    "print(\"d has dimension {}\".format(d.ndim))\n",
    "\n",
    "# USE NDIM TO CREATE 5-D ARRAY\n",
    "e = np.array([10, 20, 30], ndmin = 5)\n",
    "print(e)\n",
    "print(\"e has dimension {}\".format(e.ndim))"
   ]
  },
  {
   "cell_type": "markdown",
   "metadata": {},
   "source": [
    "#### ARRAY INDEXING\n"
   ]
  }
 ],
 "metadata": {
  "kernelspec": {
   "display_name": "Python 3",
   "language": "python",
   "name": "python3"
  },
  "language_info": {
   "codemirror_mode": {
    "name": "ipython",
    "version": 3
   },
   "file_extension": ".py",
   "mimetype": "text/x-python",
   "name": "python",
   "nbconvert_exporter": "python",
   "pygments_lexer": "ipython3",
   "version": "3.12.3"
  }
 },
 "nbformat": 4,
 "nbformat_minor": 2
}

{
 "cells": [
  {
   "cell_type": "markdown",
   "metadata": {},
   "source": [
    "#### NUMPY\n",
    "NumPy is short for Numerical Python.  \n",
    "It is a Python library used for working with arrays.  \n",
    "Run `pip install numpy` in the terminal to install NumPy.  \n",
    "Use `print(np.__version__)` to check the version.  \n",
    "\n",
    "#### CREATE NUMPY NDARRAY OBJECT\n",
    "The array object in NumPy is called **ndarray**.  \n",
    "+ Use the `array()` function to create it.  \n",
    "Eg `arr = np.array([1,2,3,4,5])`  \n",
    "+ You can pass a list/set/tuple into the array() method.  \n",
    "Eg `arr = np.array((1,2,3,4,5))`   "
   ]
  },
  {
   "cell_type": "code",
   "execution_count": null,
   "metadata": {},
   "outputs": [],
   "source": [
    "import numpy as np\n",
    "\n",
    "print(np.__version__)\n",
    "\n",
    "arr = ([1, 2, 3, 4, 5])"
   ]
  }
 ],
 "metadata": {
  "language_info": {
   "name": "python"
  }
 },
 "nbformat": 4,
 "nbformat_minor": 2
}
